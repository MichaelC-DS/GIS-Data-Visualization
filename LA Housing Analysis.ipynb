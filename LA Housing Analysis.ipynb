{
 "cells": [
  {
   "cell_type": "code",
   "execution_count": 1,
   "id": "roman-episode",
   "metadata": {},
   "outputs": [],
   "source": [
    "import pandas as pd\n",
    "import matplotlib.pyplot as plt\n",
    "#matplotlib inline\n",
    "\n",
    "from arcgis.gis import GIS\n",
    "from arcgis.features import GeoAccessor, GeoSeriesAccessor\n",
    "gis = GIS()"
   ]
  },
  {
   "cell_type": "code",
   "execution_count": 2,
   "id": "proper-beast",
   "metadata": {},
   "outputs": [],
   "source": [
    "#Load open listings from Redfin\n",
    "housing_data = pd.read_csv('LA_County_Housing_2021-03-10.csv')"
   ]
  },
  {
   "cell_type": "code",
   "execution_count": 3,
   "id": "quick-gibraltar",
   "metadata": {},
   "outputs": [
    {
     "data": {
      "text/html": [
       "<div>\n",
       "<style scoped>\n",
       "    .dataframe tbody tr th:only-of-type {\n",
       "        vertical-align: middle;\n",
       "    }\n",
       "\n",
       "    .dataframe tbody tr th {\n",
       "        vertical-align: top;\n",
       "    }\n",
       "\n",
       "    .dataframe thead th {\n",
       "        text-align: right;\n",
       "    }\n",
       "</style>\n",
       "<table border=\"1\" class=\"dataframe\">\n",
       "  <thead>\n",
       "    <tr style=\"text-align: right;\">\n",
       "      <th></th>\n",
       "      <th>SALE TYPE</th>\n",
       "      <th>SOLD DATE</th>\n",
       "      <th>PROPERTY TYPE</th>\n",
       "      <th>ADDRESS</th>\n",
       "      <th>CITY</th>\n",
       "      <th>STATE OR PROVINCE</th>\n",
       "      <th>ZIP OR POSTAL CODE</th>\n",
       "      <th>PRICE</th>\n",
       "      <th>BEDS</th>\n",
       "      <th>BATHS</th>\n",
       "      <th>...</th>\n",
       "      <th>STATUS</th>\n",
       "      <th>NEXT OPEN HOUSE START TIME</th>\n",
       "      <th>NEXT OPEN HOUSE END TIME</th>\n",
       "      <th>URL (SEE http://www.redfin.com/buy-a-home/comparative-market-analysis FOR INFO ON PRICING)</th>\n",
       "      <th>SOURCE</th>\n",
       "      <th>MLS#</th>\n",
       "      <th>FAVORITE</th>\n",
       "      <th>INTERESTED</th>\n",
       "      <th>LATITUDE</th>\n",
       "      <th>LONGITUDE</th>\n",
       "    </tr>\n",
       "  </thead>\n",
       "  <tbody>\n",
       "    <tr>\n",
       "      <th>0</th>\n",
       "      <td>MLS Listing</td>\n",
       "      <td>NaN</td>\n",
       "      <td>Condo/Co-op</td>\n",
       "      <td>15057 Sherman Way Unit C</td>\n",
       "      <td>Van Nuys</td>\n",
       "      <td>CA</td>\n",
       "      <td>91405</td>\n",
       "      <td>509000</td>\n",
       "      <td>3.0</td>\n",
       "      <td>3.00</td>\n",
       "      <td>...</td>\n",
       "      <td>Active</td>\n",
       "      <td>NaN</td>\n",
       "      <td>NaN</td>\n",
       "      <td>http://www.redfin.com/CA/Van-Nuys/15057-Sherma...</td>\n",
       "      <td>CRMLS</td>\n",
       "      <td>BB21044163</td>\n",
       "      <td>N</td>\n",
       "      <td>Y</td>\n",
       "      <td>34.202122</td>\n",
       "      <td>-118.461117</td>\n",
       "    </tr>\n",
       "    <tr>\n",
       "      <th>1</th>\n",
       "      <td>MLS Listing</td>\n",
       "      <td>NaN</td>\n",
       "      <td>Condo/Co-op</td>\n",
       "      <td>4080 Via Marisol #135</td>\n",
       "      <td>Los Angeles</td>\n",
       "      <td>CA</td>\n",
       "      <td>90042</td>\n",
       "      <td>489000</td>\n",
       "      <td>2.0</td>\n",
       "      <td>1.00</td>\n",
       "      <td>...</td>\n",
       "      <td>Active</td>\n",
       "      <td>NaN</td>\n",
       "      <td>NaN</td>\n",
       "      <td>http://www.redfin.com/CA/Los-Angeles/4080-Via-...</td>\n",
       "      <td>CRMLS</td>\n",
       "      <td>BB21049055</td>\n",
       "      <td>N</td>\n",
       "      <td>Y</td>\n",
       "      <td>34.093379</td>\n",
       "      <td>-118.184183</td>\n",
       "    </tr>\n",
       "    <tr>\n",
       "      <th>2</th>\n",
       "      <td>MLS Listing</td>\n",
       "      <td>NaN</td>\n",
       "      <td>Townhouse</td>\n",
       "      <td>1620 237th St #9</td>\n",
       "      <td>Los Angeles</td>\n",
       "      <td>CA</td>\n",
       "      <td>90710</td>\n",
       "      <td>648000</td>\n",
       "      <td>4.0</td>\n",
       "      <td>3.00</td>\n",
       "      <td>...</td>\n",
       "      <td>Pre On-Market</td>\n",
       "      <td>NaN</td>\n",
       "      <td>NaN</td>\n",
       "      <td>http://www.redfin.com/CA/Harbor-City/1620-237t...</td>\n",
       "      <td>CRMLS</td>\n",
       "      <td>SB21033842</td>\n",
       "      <td>N</td>\n",
       "      <td>Y</td>\n",
       "      <td>33.810072</td>\n",
       "      <td>-118.307634</td>\n",
       "    </tr>\n",
       "    <tr>\n",
       "      <th>3</th>\n",
       "      <td>MLS Listing</td>\n",
       "      <td>NaN</td>\n",
       "      <td>Townhouse</td>\n",
       "      <td>14853 Hartsook St #104</td>\n",
       "      <td>Sherman Oaks</td>\n",
       "      <td>CA</td>\n",
       "      <td>91403</td>\n",
       "      <td>599000</td>\n",
       "      <td>3.0</td>\n",
       "      <td>2.75</td>\n",
       "      <td>...</td>\n",
       "      <td>Active</td>\n",
       "      <td>NaN</td>\n",
       "      <td>NaN</td>\n",
       "      <td>http://www.redfin.com/CA/Sherman-Oaks/14853-Ha...</td>\n",
       "      <td>CRMLS</td>\n",
       "      <td>BB21040455</td>\n",
       "      <td>N</td>\n",
       "      <td>Y</td>\n",
       "      <td>34.164218</td>\n",
       "      <td>-118.457078</td>\n",
       "    </tr>\n",
       "    <tr>\n",
       "      <th>4</th>\n",
       "      <td>MLS Listing</td>\n",
       "      <td>NaN</td>\n",
       "      <td>Condo/Co-op</td>\n",
       "      <td>11855 Goshen Ave #303</td>\n",
       "      <td>Los Angeles</td>\n",
       "      <td>CA</td>\n",
       "      <td>90049</td>\n",
       "      <td>1190000</td>\n",
       "      <td>2.0</td>\n",
       "      <td>3.00</td>\n",
       "      <td>...</td>\n",
       "      <td>Active</td>\n",
       "      <td>NaN</td>\n",
       "      <td>NaN</td>\n",
       "      <td>http://www.redfin.com/CA/Los-Angeles/11855-Gos...</td>\n",
       "      <td>CRMLS</td>\n",
       "      <td>PW21045752</td>\n",
       "      <td>N</td>\n",
       "      <td>Y</td>\n",
       "      <td>34.048126</td>\n",
       "      <td>-118.464884</td>\n",
       "    </tr>\n",
       "  </tbody>\n",
       "</table>\n",
       "<p>5 rows × 27 columns</p>\n",
       "</div>"
      ],
      "text/plain": [
       "     SALE TYPE  SOLD DATE PROPERTY TYPE                   ADDRESS  \\\n",
       "0  MLS Listing        NaN   Condo/Co-op  15057 Sherman Way Unit C   \n",
       "1  MLS Listing        NaN   Condo/Co-op     4080 Via Marisol #135   \n",
       "2  MLS Listing        NaN     Townhouse          1620 237th St #9   \n",
       "3  MLS Listing        NaN     Townhouse    14853 Hartsook St #104   \n",
       "4  MLS Listing        NaN   Condo/Co-op     11855 Goshen Ave #303   \n",
       "\n",
       "           CITY STATE OR PROVINCE  ZIP OR POSTAL CODE    PRICE  BEDS  BATHS  \\\n",
       "0      Van Nuys                CA               91405   509000   3.0   3.00   \n",
       "1   Los Angeles                CA               90042   489000   2.0   1.00   \n",
       "2   Los Angeles                CA               90710   648000   4.0   3.00   \n",
       "3  Sherman Oaks                CA               91403   599000   3.0   2.75   \n",
       "4   Los Angeles                CA               90049  1190000   2.0   3.00   \n",
       "\n",
       "   ...         STATUS  NEXT OPEN HOUSE START TIME  NEXT OPEN HOUSE END TIME  \\\n",
       "0  ...         Active                         NaN                       NaN   \n",
       "1  ...         Active                         NaN                       NaN   \n",
       "2  ...  Pre On-Market                         NaN                       NaN   \n",
       "3  ...         Active                         NaN                       NaN   \n",
       "4  ...         Active                         NaN                       NaN   \n",
       "\n",
       "   URL (SEE http://www.redfin.com/buy-a-home/comparative-market-analysis FOR INFO ON PRICING)  \\\n",
       "0  http://www.redfin.com/CA/Van-Nuys/15057-Sherma...                                            \n",
       "1  http://www.redfin.com/CA/Los-Angeles/4080-Via-...                                            \n",
       "2  http://www.redfin.com/CA/Harbor-City/1620-237t...                                            \n",
       "3  http://www.redfin.com/CA/Sherman-Oaks/14853-Ha...                                            \n",
       "4  http://www.redfin.com/CA/Los-Angeles/11855-Gos...                                            \n",
       "\n",
       "   SOURCE        MLS#  FAVORITE INTERESTED   LATITUDE   LONGITUDE  \n",
       "0   CRMLS  BB21044163         N          Y  34.202122 -118.461117  \n",
       "1   CRMLS  BB21049055         N          Y  34.093379 -118.184183  \n",
       "2   CRMLS  SB21033842         N          Y  33.810072 -118.307634  \n",
       "3   CRMLS  BB21040455         N          Y  34.164218 -118.457078  \n",
       "4   CRMLS  PW21045752         N          Y  34.048126 -118.464884  \n",
       "\n",
       "[5 rows x 27 columns]"
      ]
     },
     "execution_count": 3,
     "metadata": {},
     "output_type": "execute_result"
    }
   ],
   "source": [
    "housing_data.head()"
   ]
  },
  {
   "cell_type": "code",
   "execution_count": 4,
   "id": "distant-saudi",
   "metadata": {},
   "outputs": [
    {
     "data": {
      "text/plain": [
       "Index(['SALE TYPE', 'SOLD DATE', 'PROPERTY TYPE', 'ADDRESS', 'CITY',\n",
       "       'STATE OR PROVINCE', 'ZIP OR POSTAL CODE', 'PRICE', 'BEDS', 'BATHS',\n",
       "       'LOCATION', 'SQUARE FEET', 'LOT SIZE', 'YEAR BUILT', 'DAYS ON MARKET',\n",
       "       '$/SQUARE FEET', 'HOA/MONTH', 'STATUS', 'NEXT OPEN HOUSE START TIME',\n",
       "       'NEXT OPEN HOUSE END TIME',\n",
       "       'URL (SEE http://www.redfin.com/buy-a-home/comparative-market-analysis FOR INFO ON PRICING)',\n",
       "       'SOURCE', 'MLS#', 'FAVORITE', 'INTERESTED', 'LATITUDE', 'LONGITUDE'],\n",
       "      dtype='object')"
      ]
     },
     "execution_count": 4,
     "metadata": {},
     "output_type": "execute_result"
    }
   ],
   "source": [
    "housing_data.columns"
   ]
  },
  {
   "cell_type": "code",
   "execution_count": 5,
   "id": "female-installation",
   "metadata": {},
   "outputs": [],
   "source": [
    "#Remove extraneous columns\n",
    "housing_data.drop(columns=['SALE TYPE',\n",
    "                          'SOLD DATE',\n",
    "                          'STATUS', \n",
    "                          'NEXT OPEN HOUSE START TIME',\n",
    "                          'NEXT OPEN HOUSE END TIME',\n",
    "                          'URL (SEE http://www.redfin.com/buy-a-home/comparative-market-analysis FOR INFO ON PRICING)', \n",
    "                          'SOURCE',\n",
    "                          'MLS#', \n",
    "                          'FAVORITE',\n",
    "                          'INTERESTED'], inplace=True)"
   ]
  },
  {
   "cell_type": "code",
   "execution_count": 6,
   "id": "quiet-stylus",
   "metadata": {},
   "outputs": [
    {
     "data": {
      "text/plain": [
       "Index(['PROPERTY TYPE', 'ADDRESS', 'CITY', 'STATE OR PROVINCE', 'ZIP', 'PRICE',\n",
       "       'BEDS', 'BATHS', 'LOCATION', 'SQUARE FEET', 'LOT SIZE', 'YEAR BUILT',\n",
       "       'DAYS ON MARKET', 'PRICE PER SQFT', 'HOA PER MONTH', 'LATITUDE',\n",
       "       'LONGITUDE'],\n",
       "      dtype='object')"
      ]
     },
     "execution_count": 6,
     "metadata": {},
     "output_type": "execute_result"
    }
   ],
   "source": [
    "#Rename columns\n",
    "housing_data.rename(index=str, columns={'ZIP OR POSTAL CODE':'ZIP','$/SQUARE FEET':'PRICE PER SQFT',\n",
    "                                       'HOA/MONTH':'HOA PER MONTH'}, inplace=True)\n",
    "housing_data.columns"
   ]
  },
  {
   "cell_type": "code",
   "execution_count": 7,
   "id": "caring-involvement",
   "metadata": {},
   "outputs": [
    {
     "data": {
      "text/plain": [
       "(350, 17)"
      ]
     },
     "execution_count": 7,
     "metadata": {},
     "output_type": "execute_result"
    }
   ],
   "source": [
    "housing_data.shape"
   ]
  },
  {
   "cell_type": "code",
   "execution_count": 8,
   "id": "incorporated-future",
   "metadata": {},
   "outputs": [
    {
     "data": {
      "text/plain": [
       "(332, 17)"
      ]
     },
     "execution_count": 8,
     "metadata": {},
     "output_type": "execute_result"
    }
   ],
   "source": [
    "#Remove rows with missing data\n",
    "housing_data = housing_data.dropna(axis=0, how='any', \n",
    "                                        subset=['BEDS', 'BATHS', 'PRICE', 'YEAR BUILT', 'LATITUDE', 'LONGITUDE'])\n",
    "housing_data.shape"
   ]
  },
  {
   "cell_type": "code",
   "execution_count": 9,
   "id": "widespread-shopping",
   "metadata": {},
   "outputs": [
    {
     "data": {
      "text/html": [
       "<div>\n",
       "<style scoped>\n",
       "    .dataframe tbody tr th:only-of-type {\n",
       "        vertical-align: middle;\n",
       "    }\n",
       "\n",
       "    .dataframe tbody tr th {\n",
       "        vertical-align: top;\n",
       "    }\n",
       "\n",
       "    .dataframe thead th {\n",
       "        text-align: right;\n",
       "    }\n",
       "</style>\n",
       "<table border=\"1\" class=\"dataframe\">\n",
       "  <thead>\n",
       "    <tr style=\"text-align: right;\">\n",
       "      <th></th>\n",
       "      <th>ZIP</th>\n",
       "      <th>PRICE</th>\n",
       "      <th>BEDS</th>\n",
       "      <th>BATHS</th>\n",
       "      <th>SQUARE FEET</th>\n",
       "      <th>LOT SIZE</th>\n",
       "      <th>YEAR BUILT</th>\n",
       "      <th>DAYS ON MARKET</th>\n",
       "      <th>PRICE PER SQFT</th>\n",
       "      <th>HOA PER MONTH</th>\n",
       "      <th>LATITUDE</th>\n",
       "      <th>LONGITUDE</th>\n",
       "    </tr>\n",
       "  </thead>\n",
       "  <tbody>\n",
       "    <tr>\n",
       "      <th>count</th>\n",
       "      <td>332.000000</td>\n",
       "      <td>3.320000e+02</td>\n",
       "      <td>332.000000</td>\n",
       "      <td>332.000000</td>\n",
       "      <td>332.000000</td>\n",
       "      <td>321.000000</td>\n",
       "      <td>332.000000</td>\n",
       "      <td>332.000000</td>\n",
       "      <td>332.000000</td>\n",
       "      <td>129.000000</td>\n",
       "      <td>332.000000</td>\n",
       "      <td>332.000000</td>\n",
       "    </tr>\n",
       "    <tr>\n",
       "      <th>mean</th>\n",
       "      <td>90542.789157</td>\n",
       "      <td>1.483893e+06</td>\n",
       "      <td>3.545181</td>\n",
       "      <td>3.051205</td>\n",
       "      <td>2257.584337</td>\n",
       "      <td>32800.514019</td>\n",
       "      <td>1964.234940</td>\n",
       "      <td>5.301205</td>\n",
       "      <td>2376.542169</td>\n",
       "      <td>512.178295</td>\n",
       "      <td>34.085970</td>\n",
       "      <td>-118.386633</td>\n",
       "    </tr>\n",
       "    <tr>\n",
       "      <th>std</th>\n",
       "      <td>616.659330</td>\n",
       "      <td>1.751093e+06</td>\n",
       "      <td>3.108473</td>\n",
       "      <td>3.115600</td>\n",
       "      <td>2171.892433</td>\n",
       "      <td>78799.960746</td>\n",
       "      <td>32.211427</td>\n",
       "      <td>18.173541</td>\n",
       "      <td>31523.256905</td>\n",
       "      <td>420.107138</td>\n",
       "      <td>0.112168</td>\n",
       "      <td>0.110391</td>\n",
       "    </tr>\n",
       "    <tr>\n",
       "      <th>min</th>\n",
       "      <td>90002.000000</td>\n",
       "      <td>1.150000e+05</td>\n",
       "      <td>0.000000</td>\n",
       "      <td>1.000000</td>\n",
       "      <td>1.000000</td>\n",
       "      <td>1000.000000</td>\n",
       "      <td>1887.000000</td>\n",
       "      <td>1.000000</td>\n",
       "      <td>80.000000</td>\n",
       "      <td>2.000000</td>\n",
       "      <td>33.717634</td>\n",
       "      <td>-118.662620</td>\n",
       "    </tr>\n",
       "    <tr>\n",
       "      <th>25%</th>\n",
       "      <td>90036.000000</td>\n",
       "      <td>6.750000e+05</td>\n",
       "      <td>2.000000</td>\n",
       "      <td>2.000000</td>\n",
       "      <td>1240.000000</td>\n",
       "      <td>6006.000000</td>\n",
       "      <td>1939.000000</td>\n",
       "      <td>1.000000</td>\n",
       "      <td>449.750000</td>\n",
       "      <td>300.000000</td>\n",
       "      <td>34.037494</td>\n",
       "      <td>-118.462978</td>\n",
       "    </tr>\n",
       "    <tr>\n",
       "      <th>50%</th>\n",
       "      <td>90069.000000</td>\n",
       "      <td>9.345000e+05</td>\n",
       "      <td>3.000000</td>\n",
       "      <td>2.500000</td>\n",
       "      <td>1680.000000</td>\n",
       "      <td>7805.000000</td>\n",
       "      <td>1963.500000</td>\n",
       "      <td>1.000000</td>\n",
       "      <td>584.000000</td>\n",
       "      <td>425.000000</td>\n",
       "      <td>34.088473</td>\n",
       "      <td>-118.381919</td>\n",
       "    </tr>\n",
       "    <tr>\n",
       "      <th>75%</th>\n",
       "      <td>91316.000000</td>\n",
       "      <td>1.574750e+06</td>\n",
       "      <td>4.000000</td>\n",
       "      <td>3.250000</td>\n",
       "      <td>2437.750000</td>\n",
       "      <td>19499.000000</td>\n",
       "      <td>1989.000000</td>\n",
       "      <td>1.000000</td>\n",
       "      <td>744.750000</td>\n",
       "      <td>550.000000</td>\n",
       "      <td>34.161398</td>\n",
       "      <td>-118.301711</td>\n",
       "    </tr>\n",
       "    <tr>\n",
       "      <th>max</th>\n",
       "      <td>91607.000000</td>\n",
       "      <td>1.938000e+07</td>\n",
       "      <td>44.000000</td>\n",
       "      <td>42.000000</td>\n",
       "      <td>26763.000000</td>\n",
       "      <td>696031.000000</td>\n",
       "      <td>2021.000000</td>\n",
       "      <td>173.000000</td>\n",
       "      <td>575000.000000</td>\n",
       "      <td>2811.000000</td>\n",
       "      <td>34.327244</td>\n",
       "      <td>-118.133389</td>\n",
       "    </tr>\n",
       "  </tbody>\n",
       "</table>\n",
       "</div>"
      ],
      "text/plain": [
       "                ZIP         PRICE        BEDS       BATHS   SQUARE FEET  \\\n",
       "count    332.000000  3.320000e+02  332.000000  332.000000    332.000000   \n",
       "mean   90542.789157  1.483893e+06    3.545181    3.051205   2257.584337   \n",
       "std      616.659330  1.751093e+06    3.108473    3.115600   2171.892433   \n",
       "min    90002.000000  1.150000e+05    0.000000    1.000000      1.000000   \n",
       "25%    90036.000000  6.750000e+05    2.000000    2.000000   1240.000000   \n",
       "50%    90069.000000  9.345000e+05    3.000000    2.500000   1680.000000   \n",
       "75%    91316.000000  1.574750e+06    4.000000    3.250000   2437.750000   \n",
       "max    91607.000000  1.938000e+07   44.000000   42.000000  26763.000000   \n",
       "\n",
       "            LOT SIZE   YEAR BUILT  DAYS ON MARKET  PRICE PER SQFT  \\\n",
       "count     321.000000   332.000000      332.000000      332.000000   \n",
       "mean    32800.514019  1964.234940        5.301205     2376.542169   \n",
       "std     78799.960746    32.211427       18.173541    31523.256905   \n",
       "min      1000.000000  1887.000000        1.000000       80.000000   \n",
       "25%      6006.000000  1939.000000        1.000000      449.750000   \n",
       "50%      7805.000000  1963.500000        1.000000      584.000000   \n",
       "75%     19499.000000  1989.000000        1.000000      744.750000   \n",
       "max    696031.000000  2021.000000      173.000000   575000.000000   \n",
       "\n",
       "       HOA PER MONTH    LATITUDE   LONGITUDE  \n",
       "count     129.000000  332.000000  332.000000  \n",
       "mean      512.178295   34.085970 -118.386633  \n",
       "std       420.107138    0.112168    0.110391  \n",
       "min         2.000000   33.717634 -118.662620  \n",
       "25%       300.000000   34.037494 -118.462978  \n",
       "50%       425.000000   34.088473 -118.381919  \n",
       "75%       550.000000   34.161398 -118.301711  \n",
       "max      2811.000000   34.327244 -118.133389  "
      ]
     },
     "execution_count": 9,
     "metadata": {},
     "output_type": "execute_result"
    }
   ],
   "source": [
    "housing_data.describe()"
   ]
  },
  {
   "cell_type": "code",
   "execution_count": 10,
   "id": "incident-factory",
   "metadata": {},
   "outputs": [
    {
     "data": {
      "text/plain": [
       "<AxesSubplot:title={'center':'Property Type Frequency'}>"
      ]
     },
     "execution_count": 10,
     "metadata": {},
     "output_type": "execute_result"
    },
    {
     "data": {
      "image/png": "[encoded data removed]",
      "text/plain": [
       "<Figure size 432x288 with 1 Axes>"
      ]
     },
     "metadata": {
      "needs_background": "light"
     },
     "output_type": "display_data"
    }
   ],
   "source": [
    "#Frequency plot of 'PROPERTY TYPE' column\n",
    "housing_data['PROPERTY TYPE'].value_counts().plot(kind='bar', title='Property Type Frequency', color=['#1f77b4', '#ff7f0e', '#2ca02c', '#d62728', '#9467bd'])"
   ]
  },
  {
   "cell_type": "code",
   "execution_count": 11,
   "id": "bearing-sympathy",
   "metadata": {},
   "outputs": [],
   "source": [
    "#Convert DataFrame to Spatial DataFrame\n",
    "housing_sdf = pd.DataFrame.spatial.from_xy(housing_data,'LONGITUDE','LATITUDE')"
   ]
  },
  {
   "cell_type": "code",
   "execution_count": 12,
   "id": "cathedral-museum",
   "metadata": {},
   "outputs": [],
   "source": [
    "#Filter DataFrame to only show Single Family Residential listings\n",
    "SFR_sdf = housing_sdf[(housing_sdf['PROPERTY TYPE']=='Single Family Residential')]"
   ]
  },
  {
   "cell_type": "code",
   "execution_count": 13,
   "id": "ordinary-resort",
   "metadata": {},
   "outputs": [
    {
     "data": {
      "application/vnd.jupyter.widget-view+json": {
       "model_id": "9848e9503d73468bad571dd74aac3963",
       "version_major": 2,
       "version_minor": 0
      },
      "text/plain": [
       "MapView(layout=Layout(height='400px', width='100%'))"
      ]
     },
     "metadata": {},
     "output_type": "display_data"
    },
    {
     "data": {
      "text/html": [
       "<div class=\"map-static-img-preview-f764136e-e34c-4e80-8800-e13970fb4ff6\"><img src=\"\"></img></div>"
      ],
      "text/plain": [
       "<IPython.core.display.HTML object>"
      ]
     },
     "metadata": {},
     "output_type": "display_data"
    }
   ],
   "source": [
    "#plot listings on map of LA County\n",
    "price_map = gis.map('Los Angeles, CA')\n",
    "price_map.basemap = 'gray-vector'\n",
    "price_map"
   ]
  },
  {
   "cell_type": "markdown",
   "metadata": {},
   "source": [
    "![](/map.png)"
    ]
  },
  {
   "cell_type": "code",
   "execution_count": 14,
   "id": "intellectual-advance",
   "metadata": {},
   "outputs": [
    {
     "data": {
      "text/plain": [
       "True"
      ]
     },
     "execution_count": 14,
     "metadata": {},
     "output_type": "execute_result"
    }
   ],
   "source": [
    "housing_sdf.spatial.plot(map_widget=price_map,\n",
    "                        renderer_type='c',\n",
    "                        method='esriClassifyQuantile',\n",
    "                        class_count=10,\n",
    "                        col='PRICE',\n",
    "                        cmap='BuPu_r',\n",
    "                        alpha=0.5,\n",
    "                        outline_color=[50,0,0,50], line_width=1)"
   ]
  },
  {
   "cell_type": "code",
   "execution_count": 15,
   "id": "soviet-amsterdam",
   "metadata": {},
   "outputs": [
    {
     "data": {
      "text/plain": [
       "Text(0.5, 1.0, 'Price Histogram')"
      ]
     },
     "execution_count": 15,
     "metadata": {},
     "output_type": "execute_result"
    },
    {
     "data": {
      "image/png": "[encoded data removed]",
      "text/plain": [
       "<Figure size 432x288 with 1 Axes>"
      ]
     },
     "metadata": {
      "needs_background": "light"
     },
     "output_type": "display_data"
    }
   ],
   "source": [
    "#Graph histogram of data, bar color corresponds to points on graph (lighter -> more expensive)\n",
    "price_class_breaks = price_map.layers[0].layer.layerDefinition.drawingInfo.renderer.classBreakInfos\n",
    "cbs_list = []\n",
    "cmap_list = []\n",
    "for cb in price_class_breaks:\n",
    "    cbs_list.append(cb.classMaxValue)\n",
    "    cmap_list.append([x/255.0 for x in cb.symbol.color])\n",
    "    \n",
    "n, bins, patches = plt.hist(housing_sdf['PRICE'], bins=cbs_list)\n",
    "\n",
    "idx = 0\n",
    "for c, p in zip(bins, patches):\n",
    "    plt.setp(p, 'facecolor', cmap_list[idx])\n",
    "    idx+=1\n",
    "    \n",
    "plt.title('Price Histogram')"
   ]
  },
  {
   "cell_type": "code",
   "execution_count": null,
   "id": "helpful-rachel",
   "metadata": {},
   "outputs": [],
   "source": []
  }
 ],
 "metadata": {
  "kernelspec": {
   "display_name": "Python 3",
   "language": "python",
   "name": "python3"
  },
  "language_info": {
   "codemirror_mode": {
    "name": "ipython",
    "version": 3
   },
   "file_extension": ".py",
   "mimetype": "text/x-python",
   "name": "python",
   "nbconvert_exporter": "python",
   "pygments_lexer": "ipython3",
   "version": "3.8.5"
  }
 },
 "nbformat": 4,
 "nbformat_minor": 5
}
